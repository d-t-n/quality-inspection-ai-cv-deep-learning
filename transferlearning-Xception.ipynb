{
 "cells": [
  {
   "attachments": {},
   "cell_type": "markdown",
   "metadata": {},
   "source": [
    "# Loading Libraries"
   ]
  },
  {
   "cell_type": "code",
   "execution_count": null,
   "metadata": {},
   "outputs": [],
   "source": [
    "import os\n",
    "import numpy as np\n",
    "import pandas as pd\n",
    "import keras\n",
    "from keras.layers import Conv2D, MaxPool2D,Dropout,Flatten,Dense\n",
    "from keras.preprocessing import image \n",
    "from keras.models import Sequential\n",
    "import tensorflow as tf\n",
    "from tensorflow.keras import models\n",
    "import datetime\n"
   ]
  },
  {
   "cell_type": "code",
   "execution_count": null,
   "metadata": {},
   "outputs": [],
   "source": [
    "# Use the GPU on a Mac M1\n",
    "physical_devices = tf.config.list_physical_devices('GPU')\n",
    "if len(physical_devices) > 0:\n",
    "    tf.config.experimental.set_memory_growth(physical_devices[0], True)\n",
    "    tf.config.set_visible_devices(physical_devices[0], 'GPU')\n",
    "print(physical_devices)"
   ]
  },
  {
   "attachments": {},
   "cell_type": "markdown",
   "metadata": {},
   "source": [
    "# Loading Data"
   ]
  },
  {
   "cell_type": "code",
   "execution_count": null,
   "metadata": {},
   "outputs": [],
   "source": [
    "train_data_gen = image.ImageDataGenerator(rescale= 1./255)\n",
    "train = train_data_gen.flow_from_directory(directory=\"archive/casting_data/casting_data/train/\" ,\n",
    " target_size=(256,256) , batch_size=32, class_mode = 'binary')"
   ]
  },
  {
   "cell_type": "code",
   "execution_count": null,
   "metadata": {},
   "outputs": [],
   "source": [
    "train_data_gen = image.ImageDataGenerator(rescale= 1./255)\n",
    "test = train_data_gen.flow_from_directory(directory=\"archive/casting_data/casting_data/test\" ,\n",
    " target_size=(256,256) , batch_size=32, class_mode = 'binary')"
   ]
  },
  {
   "attachments": {},
   "cell_type": "markdown",
   "metadata": {},
   "source": [
    "# Verifying labels"
   ]
  },
  {
   "cell_type": "code",
   "execution_count": null,
   "metadata": {},
   "outputs": [],
   "source": [
    "train.class_indices\n"
   ]
  },
  {
   "cell_type": "code",
   "execution_count": null,
   "metadata": {},
   "outputs": [],
   "source": [
    "test.class_indices"
   ]
  },
  {
   "attachments": {},
   "cell_type": "markdown",
   "metadata": {},
   "source": [
    "# Dataset examples"
   ]
  },
  {
   "cell_type": "code",
   "execution_count": null,
   "metadata": {},
   "outputs": [],
   "source": [
    "import matplotlib.pyplot as plt\n",
    "import numpy as np\n",
    "%matplotlib inline\n",
    "\n",
    "\n",
    "# Set the class labels\n",
    "class_labels = {0: 'def_front', 1: 'ok_front'}\n",
    "\n",
    "# Get a batch of images and labels\n",
    "images, labels = next(train)\n",
    "\n",
    "# Select 5 images with 'ok_front' label and 5 images with 'def_front' label\n",
    "ok_front_images = images[labels == 1][:5]\n",
    "ok_front_labels = labels[labels == 1][:5]\n",
    "def_front_images = images[labels == 0][:5]\n",
    "def_front_labels = labels[labels == 0][:5]\n",
    "\n",
    "# Concatenate the images and labels\n",
    "images = np.concatenate([ok_front_images, def_front_images])\n",
    "labels = np.concatenate([ok_front_labels, def_front_labels])\n",
    "\n",
    "# Plot the images and their labels\n",
    "fig, axes = plt.subplots(nrows=2, ncols=5, figsize=(15, 6))\n",
    "\n",
    "for i, ax in enumerate(axes.flat):\n",
    "    ax.imshow(images[i])\n",
    "    ax.set_title(class_labels[labels[i]])\n",
    "    ax.axis('off')\n",
    "    \n",
    "plt.tight_layout()\n",
    "plt.show()\n"
   ]
  },
  {
   "attachments": {},
   "cell_type": "markdown",
   "metadata": {},
   "source": [
    "# Transfer Learning - loading feature extraction layers"
   ]
  },
  {
   "cell_type": "code",
   "execution_count": null,
   "metadata": {},
   "outputs": [],
   "source": [
    "from tensorflow.keras.applications import Xception\n",
    "xcept = Xception(input_shape = (256, 256, 3), include_top = False, weights = 'imagenet')"
   ]
  },
  {
   "attachments": {},
   "cell_type": "markdown",
   "metadata": {},
   "source": [
    "# Add Head Layers to network"
   ]
  },
  {
   "cell_type": "code",
   "execution_count": null,
   "metadata": {},
   "outputs": [],
   "source": [
    "#Feature layers not be be trained again\n",
    "%load_ext tensorboard\n",
    "\n",
    "# Clear any logs from previous runs\n",
    "#rm -rf ./logs/\n",
    "\n",
    "\n",
    "for layer in xcept.layers:\n",
    "    layer.trainable = False\n",
    "\n",
    "\n",
    "model=keras.Sequential([\n",
    "    xcept,\n",
    "    keras.layers.Flatten(),\n",
    "    keras.layers.Dense(units=256, activation=\"relu\"),\n",
    "    keras.layers.Dropout(0.2),\n",
    "    keras.layers.Dense(units=1, activation=\"sigmoid\"),\n",
    "])\n",
    "\n",
    "\n",
    "model.compile(optimizer=\"adam\",loss='binary_crossentropy',metrics=['accuracy'])\n",
    "\n",
    "#Tensorboard\n",
    "log_dir = \"logs/fit/\" + datetime.datetime.now().strftime(\"%Y%m%d-%H%M%S\")\n",
    "tensorboard_callback = tf.keras.callbacks.TensorBoard(log_dir=log_dir, histogram_freq=1)"
   ]
  },
  {
   "attachments": {},
   "cell_type": "markdown",
   "metadata": {},
   "source": [
    "# Model Summary"
   ]
  },
  {
   "cell_type": "code",
   "execution_count": null,
   "metadata": {},
   "outputs": [],
   "source": [
    "model.summary()"
   ]
  },
  {
   "attachments": {},
   "cell_type": "markdown",
   "metadata": {},
   "source": [
    "# Training"
   ]
  },
  {
   "cell_type": "code",
   "execution_count": null,
   "metadata": {},
   "outputs": [],
   "source": [
    "history = model.fit_generator(train,epochs=15,steps_per_epoch=20,validation_data=test,validation_steps=len(test), callbacks=[tensorboard_callback])"
   ]
  },
  {
   "attachments": {},
   "cell_type": "markdown",
   "metadata": {},
   "source": [
    "# Visualization"
   ]
  },
  {
   "cell_type": "code",
   "execution_count": null,
   "metadata": {},
   "outputs": [],
   "source": [
    "print(model.history.history.keys())"
   ]
  },
  {
   "cell_type": "code",
   "execution_count": null,
   "metadata": {},
   "outputs": [],
   "source": [
    "import seaborn as sns\n",
    "import matplotlib.pyplot as plt\n",
    "import pandas as pd\n",
    "\n",
    "fig, (ax1, ax2) = plt.subplots(nrows=1, ncols=2, figsize=(16, 6))\n",
    "\n",
    "# Plot loss\n",
    "sns.lineplot(x=range(1, len(model.history.history['loss'])+1),\n",
    "             y=model.history.history['loss'], color='blue', ax=ax1)\n",
    "sns.lineplot(x=range(1, len(model.history.history['val_loss'])+1),\n",
    "             y=model.history.history['val_loss'], color='orange', ax=ax1)\n",
    "ax1.set_title('Training and Validation Loss', fontweight='bold', fontsize=14)\n",
    "ax1.set_xlabel('Epoch')\n",
    "ax1.set_ylabel('Loss')\n",
    "ax1.legend(['train', 'validation'])\n",
    "\n",
    "# Plot accuracy\n",
    "sns.lineplot(x=range(1, len(model.history.history['accuracy'])+1),\n",
    "             y=model.history.history['accuracy'], color='blue', ax=ax2)\n",
    "sns.lineplot(x=range(1, len(model.history.history['val_accuracy'])+1),\n",
    "             y=model.history.history['val_accuracy'], color='orange', ax=ax2)\n",
    "ax2.set_title('Training and Validation Accuracy', fontweight='bold', fontsize=14)\n",
    "ax2.set_xlabel('Epoch')\n",
    "ax2.set_ylabel('Accuracy')\n",
    "ax2.legend(['train', 'validation'])\n",
    "\n",
    "plt.show()\n"
   ]
  },
  {
   "cell_type": "code",
   "execution_count": null,
   "metadata": {},
   "outputs": [],
   "source": [
    "import seaborn as sns\n",
    "import matplotlib.pyplot as plt\n",
    "\n",
    "# Define colors for the lines\n",
    "colors = ['#1f77b4', '#ff7f0e', '#2ca02c', '#d62728']\n",
    "\n",
    "# Create subplots for loss and accuracy\n",
    "fig, (ax1, ax2) = plt.subplots(nrows=1, ncols=2, figsize=(16, 6))\n",
    "\n",
    "# Plot loss\n",
    "sns.lineplot(x=range(1, len(model.history.history['loss'])+1),\n",
    "             y=model.history.history['loss'], color=colors[0], ax=ax1)\n",
    "sns.lineplot(x=range(1, len(model.history.history['val_loss'])+1),\n",
    "             y=model.history.history['val_loss'], color=colors[1], ax=ax1)\n",
    "ax1.set_title('Training and Validation Loss', fontweight='bold', fontsize=14)\n",
    "ax1.set_xlabel('Epochs')\n",
    "ax1.set_ylabel('Loss')\n",
    "ax1.legend(labels=['train loss', 'val loss'], loc='upper right',\n",
    "           bbox_to_anchor=(1, 1), frameon=False,\n",
    "           labelcolor=[colors[0], colors[1]])\n",
    "\n",
    "# Plot accuracy\n",
    "sns.lineplot(x=range(1, len(model.history.history['accuracy'])+1),\n",
    "             y=model.history.history['accuracy'], color=colors[2], ax=ax2)\n",
    "sns.lineplot(x=range(1, len(model.history.history['val_accuracy'])+1),\n",
    "             y=model.history.history['val_accuracy'], color=colors[3], ax=ax2)\n",
    "ax2.set_title('Training and Validation Accuracy', fontweight='bold', fontsize=14)\n",
    "ax2.set_xlabel('Epochs')\n",
    "ax2.set_ylabel('Accuracy')\n",
    "ax2.legend(labels=['train accuracy', 'val accuracy'], loc='upper right',\n",
    "           bbox_to_anchor=(1, 1), frameon=False,\n",
    "           labelcolor=[colors[2], colors[3]])\n",
    "\n",
    "plt.show()\n"
   ]
  },
  {
   "cell_type": "code",
   "execution_count": null,
   "metadata": {},
   "outputs": [],
   "source": [
    "import numpy as np\n",
    "import seaborn as sns\n",
    "import matplotlib.pyplot as plt\n",
    "from sklearn.metrics import confusion_matrix\n",
    "\n",
    "# Get predicted classes\n",
    "y_pred = model.predict(test)\n",
    "y_pred = (y_pred > 0.5).astype(int)\n",
    "\n",
    "# Create confusion matrix\n",
    "cm = confusion_matrix(test.classes, y_pred)\n",
    "\n",
    "# Plot confusion matrix\n",
    "sns.set(font_scale=1.4)\n",
    "sns.heatmap(cm, annot=True, annot_kws={\"size\": 16}, cmap='Blues', fmt='g')\n",
    "plt.xlabel('Predicted Label')\n",
    "plt.ylabel('True Label')\n",
    "plt.show()"
   ]
  },
  {
   "cell_type": "code",
   "execution_count": null,
   "metadata": {},
   "outputs": [],
   "source": [
    "from sklearn.metrics import f1_score\n",
    "import numpy as np\n",
    "\n",
    "# Get predictions for test set\n",
    "y_pred = model.predict(test)\n",
    "\n",
    "# Convert probabilities to binary predictions\n",
    "y_pred = np.round(y_pred)\n",
    "\n",
    "# Get true labels for test set\n",
    "y_true = test.labels\n",
    "\n",
    "# Calculate f1 score\n",
    "f1 = f1_score(y_true, y_pred)\n",
    "\n",
    "print(\"F1 Score:\", f1)\n",
    "\n",
    "# Plot f1 score\n",
    "plt.bar(['F1 Score'], [f1])\n",
    "plt.title(\"F1 Score\")\n",
    "plt.show()"
   ]
  },
  {
   "attachments": {},
   "cell_type": "markdown",
   "metadata": {},
   "source": [
    "# Export model"
   ]
  },
  {
   "cell_type": "code",
   "execution_count": null,
   "metadata": {},
   "outputs": [],
   "source": [
    "# serialize model to JSON\n",
    "model_json = model.to_json()\n",
    "with open(\"model.json\", \"w\") as json_file:\n",
    "    json_file.write(model_json)\n",
    "# serialize weights to HDF5\n",
    "#model.save_weights(\"model.h5\")"
   ]
  },
  {
   "cell_type": "markdown",
   "metadata": {},
   "source": []
  }
 ],
 "metadata": {
  "kernelspec": {
   "display_name": "Python 3",
   "language": "python",
   "name": "python3"
  },
  "language_info": {
   "codemirror_mode": {
    "name": "ipython",
    "version": 3
   },
   "file_extension": ".py",
   "mimetype": "text/x-python",
   "name": "python",
   "nbconvert_exporter": "python",
   "pygments_lexer": "ipython3",
   "version": "3.10.10"
  },
  "orig_nbformat": 4
 },
 "nbformat": 4,
 "nbformat_minor": 2
}
